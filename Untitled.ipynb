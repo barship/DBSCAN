{
 "cells": [
  {
   "cell_type": "code",
   "execution_count": 1,
   "metadata": {},
   "outputs": [],
   "source": [
    "# visitlist类用于记录访问列表\n",
    "# unvisitedlist记录未访问过的点\n",
    "# visitedlist记录已访问过的点\n",
    "# unvisitednum记录访问过的点数量\n",
    "\n",
    "##visitlist数据结构\n",
    "class visitlist:\n",
    "    def __init__(self, count = 0):\n",
    "        self.unvisitedlist = [i for i in range(count)]\n",
    "        self.visitedlist = list()\n",
    "        self.unvisitednum = count\n",
    "        \n",
    "    def visit(self,pointId):\n",
    "        self.visitedlist.append(pointId)\n",
    "        self.unvisitedlist.remove(pointId)\n",
    "        self.unvisitednum -= 1\n",
    "        "
   ]
  },
  {
   "cell_type": "code",
   "execution_count": 2,
   "metadata": {},
   "outputs": [],
   "source": [
    "##DBSCAN算法实现代码\n",
    "import numpy as np\n",
    "import matplotlib.pyplot as plt\n",
    "import math \n",
    "import random\n"
   ]
  },
  {
   "cell_type": "code",
   "execution_count": 3,
   "metadata": {},
   "outputs": [],
   "source": [
    "def dist(a,b):\n",
    "    #计算a,b两个元组的欧几里得距离\n",
    "    return math.sqrt(np.power(a-b,2).sum())"
   ]
  },
  {
   "cell_type": "code",
   "execution_count": 4,
   "metadata": {},
   "outputs": [
    {
     "name": "stdout",
     "output_type": "stream",
     "text": [
      "Using matplotlib backend: Qt5Agg\n"
     ]
    }
   ],
   "source": [
    "#利用sklearn生成数据集,共2500条数据,并利用matplotlib画出散点图,代码如下:\n",
    "import numpy as np\n",
    "import matplotlib.pyplot as plt\n",
    "from sklearn import datasets\n",
    "%matplotlib \n",
    "\n",
    "X1, Y1 = datasets.make_circles(n_samples=2000, factor=0.6, noise=0.05, random_state=1)\n",
    "X2, Y2 = datasets.make_blobs(n_samples=500, n_features=2, centers=[[1.5,1.5]],\n",
    "                             cluster_std=[[0.1]], random_state=5)\n",
    "\n",
    "X = np.concatenate((X1, X2))\n",
    "plt.figure(dpi=80)\n",
    "plt.scatter(X[:, 0], X[:, 1], marker='.')\n",
    "plt.show()\n",
    "plt.savefig('results.png')"
   ]
  },
  {
   "cell_type": "code",
   "execution_count": 5,
   "metadata": {},
   "outputs": [],
   "source": [
    "def my_dbscan1(dataSet, eps, minPts):\n",
    "    # numpy.ndarray的shape属性表示矩阵的行数与列数\n",
    "    nPoints = dataSet.shape[0]\n",
    "    # (1)标记所有对象为unvisited\n",
    "    # 在这里用一个类vPoints进行实现\n",
    "    vPoints = visitlist(count=nPoints)\n",
    "    # 初始化簇标记列表C,簇标记k\n",
    "    k = -1;\n",
    "    C = [-1 for i in range(nPoints)]\n",
    "    while (vPoints.unvisitednum > 0):\n",
    "        # (3) 随机选择一个unvisited对象p\n",
    "        p = random.choice(vPoints.unvisitedlist)\n",
    "        # (4) 标记p为visited\n",
    "        vPoints.visit(p)\n",
    "        # (5) if p的ε-邻域至少有MinPts个对象\n",
    "        # N是p的ε-邻域点列表\n",
    "        N = [i for i in range(nPoints) if dist(dataSet[i], dataSet[p]) <= eps]\n",
    "        if len(N) >= minPts:\n",
    "            # (6) 创建一个新簇C, 并把p添加到C\n",
    "            # 这里的C是一个标记列表, 直接对第p个结点进行赋值\n",
    "            k += 1\n",
    "            C[p] = k\n",
    "            # (7) 令N为p的ε-邻域中的对象的集合\n",
    "            # N是p的ε-邻域点集合\n",
    "            # (8) for N中的每个点p1\n",
    "            for p1 in N:\n",
    "                # (9)if p1是unvisited\n",
    "                if p1 in vPoints.unvisitedlist:\n",
    "                    # (10) 标记p1为visited\n",
    "                    vPoints.visit(p1)\n",
    "                    # (11) if p1的ε邻域至少有MinPts个点,把这些点添加到N\n",
    "                    # 找出p1的ε-邻域点,并将这些点去重添加到N\n",
    "                    M = [i for i in range(nPoints) if dist(dataSet[i], dataSet[p1]) <= eps]\n",
    "                    if len(M) >= minPts:\n",
    "                        for i in M:\n",
    "                            if i not in N:\n",
    "                                N.append(i)\n",
    "                    # (12) if p1还不是任何簇的成员,把p1添加到C\n",
    "                    # C是标记列表,直接把p1分到对应的簇里即可\n",
    "                    if C[p1] == -1:\n",
    "                        C[p1] = k\n",
    "        # (15) else标记p为噪声\n",
    "        else:\n",
    "            C[p] = -1\n",
    "\n",
    "    # (16) until没有标记为unvisited的对象\n",
    "    return C"
   ]
  },
  {
   "cell_type": "code",
   "execution_count": 6,
   "metadata": {},
   "outputs": [
    {
     "name": "stdout",
     "output_type": "stream",
     "text": [
      "运行时间:  43.851200580596924\n"
     ]
    }
   ],
   "source": [
    "import time\n",
    "\n",
    "start = time.time()\n",
    "X = np.concatenate((X1, X2))\n",
    "C1 = my_dbscan1(X, 0.1, 10)\n",
    "end = time.time()\n",
    "print(\"运行时间: \",end-start)\n",
    "plt.scatter(X[:, 0], X[:, 1], c = C1, marker='.')\n",
    "plt.show()\n",
    "plt.savefig('results1.png')"
   ]
  },
  {
   "cell_type": "code",
   "execution_count": 7,
   "metadata": {},
   "outputs": [],
   "source": [
    "#利用scipy实现KD-Tree的构造和查询,对dbscan1进行改进,代码如下：\n",
    "import numpy as np\n",
    "import matplotlib.pyplot as plt\n",
    "import math\n",
    "import random\n",
    "from scipy.spatial import KDTree\n",
    "\n",
    "def my_dbscan2(dataSet, eps, minPts):\n",
    "    # numpy.ndarray的shape属性表示矩阵的行数与列数\n",
    "    # 行数即表示所有点的个数\n",
    "    nPoints = dataSet.shape[0]\n",
    "    # (1) 标记所有对象为unvisited\n",
    "    # 在这里用一个类vPoints进行实现\n",
    "    vPoints = visitlist(count = nPoints)\n",
    "    # 初始化簇标记列表C,簇标记k\n",
    "    k = -1; C= [-1 for i in range(nPoints)]\n",
    "    # 构建KD-Tree, 并生成所有距离<=eps的点对集合\n",
    "    kd =KDTree(X)\n",
    "    while(vPoints.unvisitednum > 0):\n",
    "\n",
    "        # (3) 随机选择一个unvisited对象p\n",
    "        p = random.choice(vPoints.unvisitedlist)\n",
    "        # (4)标记p为visited\n",
    "        vPoints.visit(p)\n",
    "        # (5) if p的ε-邻域至少有MinPts个对象\n",
    "        # N是p的ε-邻域点列表\n",
    "        N = kd.query_ball_point(dataSet[p], eps)\n",
    "        if len(N) >= minPts:\n",
    "            # (6) 创建一个新簇C,并把p添加到C\n",
    "            # 这里的C是一个标记列表,直接对第p个结点进行赋值\n",
    "            k += 1\n",
    "            C[p] = k\n",
    "            # (7) 令N为p的ε-邻域中的对象的集合\n",
    "            # N是p的ε-邻域点集合\n",
    "            # (8) for N中的每个点p1\n",
    "            for p1 in N:\n",
    "                # (9) if p1是unvisited\n",
    "                if p1 in vPoints.unvisitedlist:\n",
    "                    # (10) 标记p1为visited\n",
    "                    vPoints.visit(p1)\n",
    "                    # (11) if p1的ε-邻域至少有MinPts个点,把这些点添加到N\n",
    "                    # 找出p1的ε-邻域点,并将这些点去重添加到N\n",
    "                    M = kd.query_ball_point(dataSet[p1], eps)\n",
    "                    if len(M) >= minPts:\n",
    "                        for i in M:\n",
    "                            if i not in  N:\n",
    "                                N.append(i)\n",
    "                    # (12) if p1还不是任何簇的成员,把p1添加到C\n",
    "                    # C是标记列表,直接把p1分到对应的簇里即可\n",
    "                    if C[p1] == -1:\n",
    "                        C[p1] = k\n",
    "        # (15) else 标记p为噪声\n",
    "        else:\n",
    "            C[p] = -1\n",
    "    \n",
    "    # (16) until没有标记为unvisited的对象\n",
    "    return C"
   ]
  },
  {
   "cell_type": "code",
   "execution_count": 8,
   "metadata": {},
   "outputs": [
    {
     "name": "stdout",
     "output_type": "stream",
     "text": [
      "运行时间:  6.906914472579956\n"
     ]
    }
   ],
   "source": [
    "import time\n",
    "\n",
    "start = time.time()\n",
    "X = np.concatenate((X1, X2))\n",
    "C2 = my_dbscan2(X, 0.1, 10)\n",
    "end = time.time()\n",
    "print(\"运行时间: \",end-start)\n",
    "plt.scatter(X[:, 0], X[:, 1], c = C2, marker='.')\n",
    "plt.show()\n",
    "plt.savefig('results2.png')"
   ]
  },
  {
   "cell_type": "code",
   "execution_count": 6,
   "metadata": {},
   "outputs": [
    {
     "name": "stdout",
     "output_type": "stream",
     "text": [
      "运行时间:  0.12207889556884766\n"
     ]
    }
   ],
   "source": [
    "# DBSCAN eps = 0.1, min_samples = 10\n",
    "import time\n",
    "from sklearn.cluster import DBSCAN\n",
    "start = time.time()\n",
    "X = np.concatenate((X1, X2))\n",
    "C3 = DBSCAN(eps = 0.1, min_samples = 10).fit_predict(X)\n",
    "end = time.time()\n",
    "print(\"运行时间: \",end-start)\n",
    "plt.scatter(X[:, 0], X[:, 1], c = C3, marker='.')\n",
    "plt.show()\n",
    "plt.savefig('results3.png')"
   ]
  },
  {
   "cell_type": "code",
   "execution_count": null,
   "metadata": {
    "collapsed": true
   },
   "outputs": [],
   "source": []
  }
 ],
 "metadata": {
  "anaconda-cloud": {},
  "kernelspec": {
   "display_name": "Python [conda root]",
   "language": "python",
   "name": "conda-root-py"
  },
  "language_info": {
   "codemirror_mode": {
    "name": "ipython",
    "version": 3
   },
   "file_extension": ".py",
   "mimetype": "text/x-python",
   "name": "python",
   "nbconvert_exporter": "python",
   "pygments_lexer": "ipython3",
   "version": "3.5.6"
  }
 },
 "nbformat": 4,
 "nbformat_minor": 1
}
